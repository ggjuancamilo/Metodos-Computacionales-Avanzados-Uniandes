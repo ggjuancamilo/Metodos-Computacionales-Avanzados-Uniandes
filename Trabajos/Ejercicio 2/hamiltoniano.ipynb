{
 "cells": [
  {
   "cell_type": "code",
   "execution_count": 43,
   "metadata": {
    "collapsed": true
   },
   "outputs": [],
   "source": [
    "import numpy as np\n",
    "import matplotlib.pyplot as plt\n",
    "import random as rm\n",
    "%matplotlib inline"
   ]
  },
  {
   "cell_type": "code",
   "execution_count": 44,
   "metadata": {
    "collapsed": true
   },
   "outputs": [],
   "source": [
    "x = np.array([2 , -2 , 5 , 8 , 5 , 1])\n",
    "y = np.array([20 , -1 , 12 , 10 , -16 , 40])\n",
    "z = np.array([0 , 0 , 0 , 0 , 0 , 0])\n",
    "t = np.array([3.23, 3.82, 2.27, 3.04 , 5.65, 6.57])\n",
    "sigma = 0.05\n",
    "v=5"
   ]
  },
  {
   "cell_type": "code",
   "execution_count": 45,
   "metadata": {
    "collapsed": true
   },
   "outputs": [],
   "source": [
    "def t_model(x, y, z, x_mod, y_mod, z_mod, v):\n",
    "    sum((((x-x_mod)**2+(y-y_mod)**2+(z-z_mod)**2))**(0.5)/v)\n",
    "    "
   ]
  },
  {
   "cell_type": "code",
   "execution_count": 46,
   "metadata": {
    "collapsed": true
   },
   "outputs": [],
   "source": [
    "def chi2(t_obs,t_model,sigm):\n",
    "    return sum(((t_obs-t_model)/sigma)**2)"
   ]
  },
  {
   "cell_type": "code",
   "execution_count": 47,
   "metadata": {
    "collapsed": true
   },
   "outputs": [],
   "source": [
    "def likelihood(q):\n",
    "    return exp(-q*q/2)\n",
    "def loglikelihood(q):\n",
    "    return -q*q\n",
    "def gradient_loglikelihood(x, y, z, x_mod, y_mod, z_mod, v):\n",
    "    grad_x = (1/v)*(sum(t_model(x, y, z, x_mod, y_mod, z_mod, v)*v)**(-1)*(x-x_mod))\n",
    "    grad_y = (1/v)*(sum(t_model(x, y, z, x_mod, y_mod, z_mod, v)*v)**(-1)*(y-y_mod))\n",
    "    grad_z = (1/v)*(sum(t_model(x, y, z, x_mod, y_mod, z_mod, v)*v)**(-1)*(z-z_mod))\n",
    "    return grad_x , grad_y, grad_z\n"
   ]
  },
  {
   "cell_type": "code",
   "execution_count": 52,
   "metadata": {
    "collapsed": true
   },
   "outputs": [],
   "source": [
    "def leapfrog(x, y, z, x_mod, y_mod, z_mod, v , px, py, pz, delta_t=1E-1, niter=5):\n",
    "    x_new = x_mod\n",
    "    y_new = y_mod\n",
    "    z_new = z_mod\n",
    "    p_newx = px\n",
    "    for i in range(niter):\n",
    "        gradx ,grady ,gradz = gradient_loglikelihood(x,y,z,x_new, y_new, z_new, v)\n",
    "        \n",
    "        p_newx = p_newx + 0.5 * delta_t * gradx\n",
    "        x_new = x_new + delta_t * p_newx\n",
    "        p_newx = p_newx + 0.5 * delta_t * gradx\n",
    "        \n",
    "        p_newy = p_newy + 0.5 * delta_t * grady\n",
    "        y_new = y_new + delta_t * p_newy\n",
    "        p_newy = p_newy + 0.5 * delta_t * grady\n",
    "        \n",
    "        p_newz = p_newz + 0.5 * delta_t * gradz\n",
    "        z_new = z_new + delta_t * p_newz\n",
    "        p_newz = p_newz + 0.5 * delta_t * gradz\n",
    "        \n",
    "    return x_new, y_new,z_new, p_newx, p_newy, p_newz\n",
    "\n",
    "\n",
    "def H(q,px,py,pz):\n",
    "    K = 0.5 * (px**2 + py**2+pz**2)\n",
    "    U = -loglikelihood(q)\n",
    "    return K + U"
   ]
  },
  {
   "cell_type": "code",
   "execution_count": 55,
   "metadata": {
    "collapsed": false
   },
   "outputs": [],
   "source": [
    "def MCMC(nsteps):\n",
    "    \n",
    "    xmod = np.zeros(nsteps)\n",
    "    ymod = np.zeros(nsteps)\n",
    "    zmod = np.zeros(nsteps)\n",
    "    px = np.zeros(nsteps)\n",
    "    py = np.zeros(nsteps)\n",
    "    pz = np.zeros(nsteps)\n",
    "    \n",
    "    xmod[0] = ((max(x)-min(x))*rm.random())-(0.5*(max(x)-min(x)))\n",
    "    ymod[0] = ((max(y)-min(y))*rm.random())-(0.5*(max(y)-min(y)))\n",
    "    zmod[0] = 0.0\n",
    "    \n",
    "    px[0] = np.random.normal(0,1)\n",
    "    py[0] = np.random.normal(0,1)\n",
    "    pz[0] = np.random.normal(0,1)\n",
    "    \n",
    "    for i in range(1,nsteps):\n",
    "        px[i] = np.random.normal(0,1)\n",
    "        py[i] = np.random.normal(0,1)\n",
    "        pz[i] = np.random.normal(0,1)\n",
    "        \n",
    "        x_new, y_new,z_new, p_newx, p_newy, p_newz = leapfrog(x, y, z, xmod[i-1], ymod[i-1], zmod[i-1], v , px[i-1], py[i-1], pz[i-1])\n",
    "        \n",
    "        q = (chi2(t,t_model(x, y, z, x_new, y_new, z_new, v),sigma))**0.5\n",
    "        qold = (chi2(t,t_model(x, y, z, x_mod[i-1], y_mod[i-1], z_mod[i-1], v),sigma))**0.5\n",
    "        E_new = H(q, p_newx, p_newy, p_newz)\n",
    "        E_old = H(qold, px[i-1], py[i-1], pz[i-1])\n",
    "        alpha = min(1.0,np.exp(-E_new + E_old))\n",
    "        beta = np.random.random()\n",
    "        if beta < alpha:\n",
    "            xmod[i] = x_new\n",
    "            ymod[i] = y_new\n",
    "            zmod[i] = z_new\n",
    "        else:\n",
    "            \n",
    "            xmod[i] = xmod[i-1]\n",
    "            ymod[i] = ymod[i-1]\n",
    "            zmod[i] = zmod[i-1]\n",
    "            \n",
    "    return xmod,ymod,zmod"
   ]
  },
  {
   "cell_type": "code",
   "execution_count": 56,
   "metadata": {
    "collapsed": false
   },
   "outputs": [
    {
     "ename": "TypeError",
     "evalue": "unsupported operand type(s) for *: 'NoneType' and 'int'",
     "output_type": "error",
     "traceback": [
      "\u001b[1;31m---------------------------------------------------------------------------\u001b[0m",
      "\u001b[1;31mTypeError\u001b[0m                                 Traceback (most recent call last)",
      "\u001b[1;32m<ipython-input-56-881038ff876f>\u001b[0m in \u001b[0;36m<module>\u001b[1;34m()\u001b[0m\n\u001b[1;32m----> 1\u001b[1;33m \u001b[0mx_chain\u001b[0m \u001b[1;33m,\u001b[0m \u001b[0my_chain\u001b[0m\u001b[1;33m,\u001b[0m \u001b[0mz_chain\u001b[0m  \u001b[1;33m=\u001b[0m \u001b[0mMCMC\u001b[0m\u001b[1;33m(\u001b[0m\u001b[1;36m10000\u001b[0m\u001b[1;33m)\u001b[0m\u001b[1;33m\u001b[0m\u001b[0m\n\u001b[0m",
      "\u001b[1;32m<ipython-input-55-633fe0faa8e9>\u001b[0m in \u001b[0;36mMCMC\u001b[1;34m(nsteps)\u001b[0m\n\u001b[0;32m     21\u001b[0m         \u001b[0mpz\u001b[0m\u001b[1;33m[\u001b[0m\u001b[0mi\u001b[0m\u001b[1;33m]\u001b[0m \u001b[1;33m=\u001b[0m \u001b[0mnp\u001b[0m\u001b[1;33m.\u001b[0m\u001b[0mrandom\u001b[0m\u001b[1;33m.\u001b[0m\u001b[0mnormal\u001b[0m\u001b[1;33m(\u001b[0m\u001b[1;36m0\u001b[0m\u001b[1;33m,\u001b[0m\u001b[1;36m1\u001b[0m\u001b[1;33m)\u001b[0m\u001b[1;33m\u001b[0m\u001b[0m\n\u001b[0;32m     22\u001b[0m \u001b[1;33m\u001b[0m\u001b[0m\n\u001b[1;32m---> 23\u001b[1;33m         \u001b[0mx_new\u001b[0m\u001b[1;33m,\u001b[0m \u001b[0my_new\u001b[0m\u001b[1;33m,\u001b[0m\u001b[0mz_new\u001b[0m\u001b[1;33m,\u001b[0m \u001b[0mp_newx\u001b[0m\u001b[1;33m,\u001b[0m \u001b[0mp_newy\u001b[0m\u001b[1;33m,\u001b[0m \u001b[0mp_newz\u001b[0m \u001b[1;33m=\u001b[0m \u001b[0mleapfrog\u001b[0m\u001b[1;33m(\u001b[0m\u001b[0mx\u001b[0m\u001b[1;33m,\u001b[0m \u001b[0my\u001b[0m\u001b[1;33m,\u001b[0m \u001b[0mz\u001b[0m\u001b[1;33m,\u001b[0m \u001b[0mxmod\u001b[0m\u001b[1;33m[\u001b[0m\u001b[0mi\u001b[0m\u001b[1;33m-\u001b[0m\u001b[1;36m1\u001b[0m\u001b[1;33m]\u001b[0m\u001b[1;33m,\u001b[0m \u001b[0mymod\u001b[0m\u001b[1;33m[\u001b[0m\u001b[0mi\u001b[0m\u001b[1;33m-\u001b[0m\u001b[1;36m1\u001b[0m\u001b[1;33m]\u001b[0m\u001b[1;33m,\u001b[0m \u001b[0mzmod\u001b[0m\u001b[1;33m[\u001b[0m\u001b[0mi\u001b[0m\u001b[1;33m-\u001b[0m\u001b[1;36m1\u001b[0m\u001b[1;33m]\u001b[0m\u001b[1;33m,\u001b[0m \u001b[0mv\u001b[0m \u001b[1;33m,\u001b[0m \u001b[0mpx\u001b[0m\u001b[1;33m[\u001b[0m\u001b[0mi\u001b[0m\u001b[1;33m-\u001b[0m\u001b[1;36m1\u001b[0m\u001b[1;33m]\u001b[0m\u001b[1;33m,\u001b[0m \u001b[0mpy\u001b[0m\u001b[1;33m[\u001b[0m\u001b[0mi\u001b[0m\u001b[1;33m-\u001b[0m\u001b[1;36m1\u001b[0m\u001b[1;33m]\u001b[0m\u001b[1;33m,\u001b[0m \u001b[0mpz\u001b[0m\u001b[1;33m[\u001b[0m\u001b[0mi\u001b[0m\u001b[1;33m-\u001b[0m\u001b[1;36m1\u001b[0m\u001b[1;33m]\u001b[0m\u001b[1;33m)\u001b[0m\u001b[1;33m\u001b[0m\u001b[0m\n\u001b[0m\u001b[0;32m     24\u001b[0m \u001b[1;33m\u001b[0m\u001b[0m\n\u001b[0;32m     25\u001b[0m         \u001b[0mq\u001b[0m \u001b[1;33m=\u001b[0m \u001b[1;33m(\u001b[0m\u001b[0mchi2\u001b[0m\u001b[1;33m(\u001b[0m\u001b[0mt\u001b[0m\u001b[1;33m,\u001b[0m\u001b[0mt_model\u001b[0m\u001b[1;33m(\u001b[0m\u001b[0mx\u001b[0m\u001b[1;33m,\u001b[0m \u001b[0my\u001b[0m\u001b[1;33m,\u001b[0m \u001b[0mz\u001b[0m\u001b[1;33m,\u001b[0m \u001b[0mx_new\u001b[0m\u001b[1;33m,\u001b[0m \u001b[0my_new\u001b[0m\u001b[1;33m,\u001b[0m \u001b[0mz_new\u001b[0m\u001b[1;33m,\u001b[0m \u001b[0mv\u001b[0m\u001b[1;33m)\u001b[0m\u001b[1;33m,\u001b[0m\u001b[0msigma\u001b[0m\u001b[1;33m)\u001b[0m\u001b[1;33m)\u001b[0m\u001b[1;33m**\u001b[0m\u001b[1;36m0.5\u001b[0m\u001b[1;33m\u001b[0m\u001b[0m\n",
      "\u001b[1;32m<ipython-input-52-868fd56e6bdf>\u001b[0m in \u001b[0;36mleapfrog\u001b[1;34m(x, y, z, x_mod, y_mod, z_mod, v, px, py, pz, delta_t, niter)\u001b[0m\n\u001b[0;32m      5\u001b[0m     \u001b[0mp_newx\u001b[0m \u001b[1;33m=\u001b[0m \u001b[0mpx\u001b[0m\u001b[1;33m\u001b[0m\u001b[0m\n\u001b[0;32m      6\u001b[0m     \u001b[1;32mfor\u001b[0m \u001b[0mi\u001b[0m \u001b[1;32min\u001b[0m \u001b[0mrange\u001b[0m\u001b[1;33m(\u001b[0m\u001b[0mniter\u001b[0m\u001b[1;33m)\u001b[0m\u001b[1;33m:\u001b[0m\u001b[1;33m\u001b[0m\u001b[0m\n\u001b[1;32m----> 7\u001b[1;33m         \u001b[0mgradx\u001b[0m \u001b[1;33m,\u001b[0m\u001b[0mgrady\u001b[0m \u001b[1;33m,\u001b[0m\u001b[0mgradz\u001b[0m \u001b[1;33m=\u001b[0m \u001b[0mgradient_loglikelihood\u001b[0m\u001b[1;33m(\u001b[0m\u001b[0mx\u001b[0m\u001b[1;33m,\u001b[0m\u001b[0my\u001b[0m\u001b[1;33m,\u001b[0m\u001b[0mz\u001b[0m\u001b[1;33m,\u001b[0m\u001b[0mx_new\u001b[0m\u001b[1;33m,\u001b[0m \u001b[0my_new\u001b[0m\u001b[1;33m,\u001b[0m \u001b[0mz_new\u001b[0m\u001b[1;33m,\u001b[0m \u001b[0mv\u001b[0m\u001b[1;33m)\u001b[0m\u001b[1;33m\u001b[0m\u001b[0m\n\u001b[0m\u001b[0;32m      8\u001b[0m \u001b[1;33m\u001b[0m\u001b[0m\n\u001b[0;32m      9\u001b[0m         \u001b[0mp_newx\u001b[0m \u001b[1;33m=\u001b[0m \u001b[0mp_newx\u001b[0m \u001b[1;33m+\u001b[0m \u001b[1;36m0.5\u001b[0m \u001b[1;33m*\u001b[0m \u001b[0mdelta_t\u001b[0m \u001b[1;33m*\u001b[0m \u001b[0mgradx\u001b[0m\u001b[1;33m\u001b[0m\u001b[0m\n",
      "\u001b[1;32m<ipython-input-47-b31311fd56f7>\u001b[0m in \u001b[0;36mgradient_loglikelihood\u001b[1;34m(x, y, z, x_mod, y_mod, z_mod, v)\u001b[0m\n\u001b[0;32m      4\u001b[0m     \u001b[1;32mreturn\u001b[0m \u001b[1;33m-\u001b[0m\u001b[0mq\u001b[0m\u001b[1;33m*\u001b[0m\u001b[0mq\u001b[0m\u001b[1;33m\u001b[0m\u001b[0m\n\u001b[0;32m      5\u001b[0m \u001b[1;32mdef\u001b[0m \u001b[0mgradient_loglikelihood\u001b[0m\u001b[1;33m(\u001b[0m\u001b[0mx\u001b[0m\u001b[1;33m,\u001b[0m \u001b[0my\u001b[0m\u001b[1;33m,\u001b[0m \u001b[0mz\u001b[0m\u001b[1;33m,\u001b[0m \u001b[0mx_mod\u001b[0m\u001b[1;33m,\u001b[0m \u001b[0my_mod\u001b[0m\u001b[1;33m,\u001b[0m \u001b[0mz_mod\u001b[0m\u001b[1;33m,\u001b[0m \u001b[0mv\u001b[0m\u001b[1;33m)\u001b[0m\u001b[1;33m:\u001b[0m\u001b[1;33m\u001b[0m\u001b[0m\n\u001b[1;32m----> 6\u001b[1;33m     \u001b[0mgrad_x\u001b[0m \u001b[1;33m=\u001b[0m \u001b[1;33m(\u001b[0m\u001b[1;36m1\u001b[0m\u001b[1;33m/\u001b[0m\u001b[0mv\u001b[0m\u001b[1;33m)\u001b[0m\u001b[1;33m*\u001b[0m\u001b[1;33m(\u001b[0m\u001b[0msum\u001b[0m\u001b[1;33m(\u001b[0m\u001b[0mt_model\u001b[0m\u001b[1;33m(\u001b[0m\u001b[0mx\u001b[0m\u001b[1;33m,\u001b[0m \u001b[0my\u001b[0m\u001b[1;33m,\u001b[0m \u001b[0mz\u001b[0m\u001b[1;33m,\u001b[0m \u001b[0mx_mod\u001b[0m\u001b[1;33m,\u001b[0m \u001b[0my_mod\u001b[0m\u001b[1;33m,\u001b[0m \u001b[0mz_mod\u001b[0m\u001b[1;33m,\u001b[0m \u001b[0mv\u001b[0m\u001b[1;33m)\u001b[0m\u001b[1;33m*\u001b[0m\u001b[0mv\u001b[0m\u001b[1;33m)\u001b[0m\u001b[1;33m**\u001b[0m\u001b[1;33m(\u001b[0m\u001b[1;33m-\u001b[0m\u001b[1;36m1\u001b[0m\u001b[1;33m)\u001b[0m\u001b[1;33m*\u001b[0m\u001b[1;33m(\u001b[0m\u001b[0mx\u001b[0m\u001b[1;33m-\u001b[0m\u001b[0mx_mod\u001b[0m\u001b[1;33m)\u001b[0m\u001b[1;33m)\u001b[0m\u001b[1;33m\u001b[0m\u001b[0m\n\u001b[0m\u001b[0;32m      7\u001b[0m     \u001b[0mgrad_y\u001b[0m \u001b[1;33m=\u001b[0m \u001b[1;33m(\u001b[0m\u001b[1;36m1\u001b[0m\u001b[1;33m/\u001b[0m\u001b[0mv\u001b[0m\u001b[1;33m)\u001b[0m\u001b[1;33m*\u001b[0m\u001b[1;33m(\u001b[0m\u001b[0msum\u001b[0m\u001b[1;33m(\u001b[0m\u001b[0mt_model\u001b[0m\u001b[1;33m(\u001b[0m\u001b[0mx\u001b[0m\u001b[1;33m,\u001b[0m \u001b[0my\u001b[0m\u001b[1;33m,\u001b[0m \u001b[0mz\u001b[0m\u001b[1;33m,\u001b[0m \u001b[0mx_mod\u001b[0m\u001b[1;33m,\u001b[0m \u001b[0my_mod\u001b[0m\u001b[1;33m,\u001b[0m \u001b[0mz_mod\u001b[0m\u001b[1;33m,\u001b[0m \u001b[0mv\u001b[0m\u001b[1;33m)\u001b[0m\u001b[1;33m*\u001b[0m\u001b[0mv\u001b[0m\u001b[1;33m)\u001b[0m\u001b[1;33m**\u001b[0m\u001b[1;33m(\u001b[0m\u001b[1;33m-\u001b[0m\u001b[1;36m1\u001b[0m\u001b[1;33m)\u001b[0m\u001b[1;33m*\u001b[0m\u001b[1;33m(\u001b[0m\u001b[0my\u001b[0m\u001b[1;33m-\u001b[0m\u001b[0my_mod\u001b[0m\u001b[1;33m)\u001b[0m\u001b[1;33m)\u001b[0m\u001b[1;33m\u001b[0m\u001b[0m\n\u001b[0;32m      8\u001b[0m     \u001b[0mgrad_z\u001b[0m \u001b[1;33m=\u001b[0m \u001b[1;33m(\u001b[0m\u001b[1;36m1\u001b[0m\u001b[1;33m/\u001b[0m\u001b[0mv\u001b[0m\u001b[1;33m)\u001b[0m\u001b[1;33m*\u001b[0m\u001b[1;33m(\u001b[0m\u001b[0msum\u001b[0m\u001b[1;33m(\u001b[0m\u001b[0mt_model\u001b[0m\u001b[1;33m(\u001b[0m\u001b[0mx\u001b[0m\u001b[1;33m,\u001b[0m \u001b[0my\u001b[0m\u001b[1;33m,\u001b[0m \u001b[0mz\u001b[0m\u001b[1;33m,\u001b[0m \u001b[0mx_mod\u001b[0m\u001b[1;33m,\u001b[0m \u001b[0my_mod\u001b[0m\u001b[1;33m,\u001b[0m \u001b[0mz_mod\u001b[0m\u001b[1;33m,\u001b[0m \u001b[0mv\u001b[0m\u001b[1;33m)\u001b[0m\u001b[1;33m*\u001b[0m\u001b[0mv\u001b[0m\u001b[1;33m)\u001b[0m\u001b[1;33m**\u001b[0m\u001b[1;33m(\u001b[0m\u001b[1;33m-\u001b[0m\u001b[1;36m1\u001b[0m\u001b[1;33m)\u001b[0m\u001b[1;33m*\u001b[0m\u001b[1;33m(\u001b[0m\u001b[0mz\u001b[0m\u001b[1;33m-\u001b[0m\u001b[0mz_mod\u001b[0m\u001b[1;33m)\u001b[0m\u001b[1;33m)\u001b[0m\u001b[1;33m\u001b[0m\u001b[0m\n",
      "\u001b[1;31mTypeError\u001b[0m: unsupported operand type(s) for *: 'NoneType' and 'int'"
     ]
    }
   ],
   "source": [
    "x_chain , y_chain, z_chain  = MCMC(10000)"
   ]
  },
  {
   "cell_type": "code",
   "execution_count": 51,
   "metadata": {
    "collapsed": false
   },
   "outputs": [
    {
     "ename": "NameError",
     "evalue": "name 'x_chain' is not defined",
     "output_type": "error",
     "traceback": [
      "\u001b[1;31m---------------------------------------------------------------------------\u001b[0m",
      "\u001b[1;31mNameError\u001b[0m                                 Traceback (most recent call last)",
      "\u001b[1;32m<ipython-input-51-a162cba78ea4>\u001b[0m in \u001b[0;36m<module>\u001b[1;34m()\u001b[0m\n\u001b[1;32m----> 1\u001b[1;33m \u001b[0ma\u001b[0m \u001b[1;33m=\u001b[0m \u001b[0mplt\u001b[0m\u001b[1;33m.\u001b[0m\u001b[0mhist\u001b[0m\u001b[1;33m(\u001b[0m\u001b[0mx_chain\u001b[0m\u001b[1;33m[\u001b[0m\u001b[1;36m500\u001b[0m\u001b[1;33m:\u001b[0m\u001b[1;33m]\u001b[0m\u001b[1;33m,\u001b[0m \u001b[0mbins\u001b[0m\u001b[1;33m=\u001b[0m\u001b[1;36m20\u001b[0m\u001b[1;33m)\u001b[0m\u001b[1;33m\u001b[0m\u001b[0m\n\u001b[0m",
      "\u001b[1;31mNameError\u001b[0m: name 'x_chain' is not defined"
     ]
    }
   ],
   "source": [
    "a = plt.hist(x_chain[500:], bins=20)"
   ]
  },
  {
   "cell_type": "code",
   "execution_count": null,
   "metadata": {
    "collapsed": true
   },
   "outputs": [],
   "source": []
  },
  {
   "cell_type": "code",
   "execution_count": null,
   "metadata": {
    "collapsed": true
   },
   "outputs": [],
   "source": []
  },
  {
   "cell_type": "code",
   "execution_count": 7,
   "metadata": {
    "collapsed": false
   },
   "outputs": [
    {
     "ename": "SyntaxError",
     "evalue": "invalid syntax (<ipython-input-7-bb834728f0a0>, line 4)",
     "output_type": "error",
     "traceback": [
      "\u001b[1;36m  File \u001b[1;32m\"<ipython-input-7-bb834728f0a0>\"\u001b[1;36m, line \u001b[1;32m4\u001b[0m\n\u001b[1;33m    return 3a+5b\u001b[0m\n\u001b[1;37m            ^\u001b[0m\n\u001b[1;31mSyntaxError\u001b[0m\u001b[1;31m:\u001b[0m invalid syntax\n"
     ]
    }
   ],
   "source": [
    "\n",
    "    "
   ]
  },
  {
   "cell_type": "code",
   "execution_count": null,
   "metadata": {
    "collapsed": true
   },
   "outputs": [],
   "source": []
  }
 ],
 "metadata": {
  "kernelspec": {
   "display_name": "Python 3",
   "language": "python",
   "name": "python3"
  },
  "language_info": {
   "codemirror_mode": {
    "name": "ipython",
    "version": 3
   },
   "file_extension": ".py",
   "mimetype": "text/x-python",
   "name": "python",
   "nbconvert_exporter": "python",
   "pygments_lexer": "ipython3",
   "version": "3.5.1"
  }
 },
 "nbformat": 4,
 "nbformat_minor": 0
}
