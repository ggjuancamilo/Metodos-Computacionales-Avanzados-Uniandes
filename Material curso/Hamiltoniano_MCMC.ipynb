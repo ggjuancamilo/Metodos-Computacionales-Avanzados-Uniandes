{
 "cells": [
  {
   "cell_type": "code",
   "execution_count": 1,
   "metadata": {
    "collapsed": false,
    "jupyter": {
     "outputs_hidden": false
    }
   },
   "outputs": [
    {
     "name": "stdout",
     "output_type": "stream",
     "text": [
      "Populating the interactive namespace from numpy and matplotlib\n"
     ]
    }
   ],
   "source": [
    "import numpy as np\n",
    "import matplotlib.pyplot as plt\n",
    "%pylab inline"
   ]
  },
  {
   "cell_type": "code",
   "execution_count": 3,
   "metadata": {
    "collapsed": false,
    "jupyter": {
     "outputs_hidden": false
    }
   },
   "outputs": [],
   "source": [
    "def like_l(q):\n",
    "    return np.exp(-q*q)\n",
    "def log_like(q):\n",
    "    return -q*q\n",
    "def gradient_loglike(u):\n",
    "    return -2*u\n",
    "def leapfrog(q,p,delta_t=1E-3,n_iter=5):\n",
    "    q_new=q\n",
    "    p_new=p\n",
    "    for i in range (n_iter):\n",
    "        p_new = p_new + 0.5*delta_t*gradient_loglike(q_new)\n",
    "        q_new = q_new + delta_t * p_new\n",
    "        p_new = p_new + 0.5*delta_t*gradient_loglike(q_new)\n",
    "    return q_new, p_new\n",
    "\n",
    "def Ham(q,p):\n",
    "    K = p*p/2\n",
    "    U = -log_like(q)\n",
    "    return K+U\n",
    "\n",
    "\n",
    "    \n",
    "    "
   ]
  },
  {
   "cell_type": "code",
   "execution_count": 32,
   "metadata": {
    "collapsed": false,
    "jupyter": {
     "outputs_hidden": false
    }
   },
   "outputs": [],
   "source": [
    "def MCMC(n_steps):\n",
    "    q = np.zeros(n_steps)\n",
    "    p = np.zeros(n_steps)\n",
    "    \n",
    "    q[0] = np.random.normal(0,1)\n",
    "    p[0] = np.random.normal(0,1)\n",
    "    for i in range (1,n_steps):\n",
    "        p[i] = np.random.normal(0,1)\n",
    "        q_new, p_new = leapfrog( q[i-1], p[i-1])\n",
    "        E_new = Ham(q_new,p_new)\n",
    "        E_old = Ham(q[i-1],p[i-1])\n",
    "        alpha = min (1.0,np.exp(E_old - E_new))\n",
    "        beta = np.random.random()\n",
    "        if beta < alpha:\n",
    "            q[i] = q_new\n",
    "        else:\n",
    "            q[i] = q[i-1]\n",
    "        \n",
    "    return q\n",
    "        "
   ]
  },
  {
   "cell_type": "code",
   "execution_count": 37,
   "metadata": {
    "collapsed": false,
    "jupyter": {
     "outputs_hidden": false
    }
   },
   "outputs": [],
   "source": [
    "q_chain = MCMC(10000)"
   ]
  },
  {
   "cell_type": "code",
   "execution_count": 38,
   "metadata": {
    "collapsed": false,
    "jupyter": {
     "outputs_hidden": false
    }
   },
   "outputs": [
    {
     "data": {
      "text/plain": [
       "(array([  459.,   606.,  1240.,  1793.,  1816.,  1207.,  1223.,  1083.,\n",
       "         424.,   149.]),\n",
       " array([ 0.96520504,  1.04450476,  1.12380447,  1.20310419,  1.28240391,\n",
       "        1.36170363,  1.44100334,  1.52030306,  1.59960278,  1.6789025 ,\n",
       "        1.75820221]),\n",
       " <a list of 10 Patch objects>)"
      ]
     },
     "execution_count": 38,
     "metadata": {},
     "output_type": "execute_result"
    },
    {
     "data": {
      "image/png": "[encoded data removed]",
      "text/plain": [
       "<matplotlib.figure.Figure at 0x7f8387c17550>"
      ]
     },
     "metadata": {},
     "output_type": "display_data"
    }
   ],
   "source": [
    "plt.hist(q_chain)"
   ]
  },
  {
   "cell_type": "code",
   "execution_count": 34,
   "metadata": {
    "collapsed": false,
    "jupyter": {
     "outputs_hidden": false
    }
   },
   "outputs": [],
   "source": []
  },
  {
   "cell_type": "code",
   "execution_count": null,
   "metadata": {
    "collapsed": false,
    "jupyter": {
     "outputs_hidden": false
    }
   },
   "outputs": [],
   "source": []
  }
 ],
 "metadata": {
  "kernelspec": {
   "display_name": "Python 3",
   "language": "python",
   "name": "python3"
  },
  "language_info": {
   "codemirror_mode": {
    "name": "ipython",
    "version": 3
   },
   "file_extension": ".py",
   "mimetype": "text/x-python",
   "name": "python",
   "nbconvert_exporter": "python",
   "pygments_lexer": "ipython3",
   "version": "3.7.6"
  }
 },
 "nbformat": 4,
 "nbformat_minor": 4
}
